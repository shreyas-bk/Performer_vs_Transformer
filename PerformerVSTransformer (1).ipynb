{
 "cells": [
  {
   "cell_type": "markdown",
   "metadata": {
    "id": "R7RSor2xIfzT"
   },
   "source": [
    "import torch"
   ]
  },
  {
   "cell_type": "markdown",
   "metadata": {},
   "source": [
    "Optimal Case: Large number of time points, less number of hidden dimension"
   ]
  },
  {
   "cell_type": "code",
   "execution_count": 10,
   "metadata": {
    "colab": {
     "base_uri": "https://localhost:8080/"
    },
    "id": "0EA9xw-bIhcV",
    "outputId": "dd9af975-8bae-4e28-d10d-c1dc90077120"
   },
   "outputs": [
    {
     "name": "stdout",
     "output_type": "stream",
     "text": [
      "torch.Size([32, 2048, 64])\n"
     ]
    }
   ],
   "source": [
    "x = torch.rand(32,2048,64)\n",
    "print(x.shape)"
   ]
  },
  {
   "cell_type": "code",
   "execution_count": 11,
   "metadata": {
    "colab": {
     "base_uri": "https://localhost:8080/"
    },
    "id": "rRlbY6VbIomH",
    "outputId": "e4ddf85d-3987-4bee-cfd5-8d9e2e1c0896"
   },
   "outputs": [
    {
     "data": {
      "text/plain": [
       "torch.Size([32, 2048, 64])"
      ]
     },
     "execution_count": 11,
     "metadata": {},
     "output_type": "execute_result"
    }
   ],
   "source": [
    "q = x\n",
    "q.shape"
   ]
  },
  {
   "cell_type": "code",
   "execution_count": 12,
   "metadata": {
    "colab": {
     "base_uri": "https://localhost:8080/"
    },
    "id": "xdbIEwceIrRg",
    "outputId": "81745c5b-0a36-4744-928f-61813260ab64"
   },
   "outputs": [
    {
     "data": {
      "text/plain": [
       "torch.Size([32, 64, 2048])"
      ]
     },
     "execution_count": 12,
     "metadata": {},
     "output_type": "execute_result"
    }
   ],
   "source": [
    "k = x.permute(0,2,1)\n",
    "k.shape"
   ]
  },
  {
   "cell_type": "code",
   "execution_count": 13,
   "metadata": {
    "colab": {
     "base_uri": "https://localhost:8080/"
    },
    "id": "0P8Ze_9hItpn",
    "outputId": "2dec7307-981f-4343-a4d4-16c327a7fa2e"
   },
   "outputs": [
    {
     "data": {
      "text/plain": [
       "torch.Size([32, 2048, 64])"
      ]
     },
     "execution_count": 13,
     "metadata": {},
     "output_type": "execute_result"
    }
   ],
   "source": [
    "v = x\n",
    "v.shape"
   ]
  },
  {
   "cell_type": "code",
   "execution_count": 17,
   "metadata": {
    "colab": {
     "base_uri": "https://localhost:8080/"
    },
    "id": "xGr8mFruIvsF",
    "outputId": "b1628851-cc19-43cb-a8f4-3d4df6ecdd10"
   },
   "outputs": [
    {
     "name": "stdout",
     "output_type": "stream",
     "text": [
      "torch.Size([32, 2048, 64])\n",
      "0.5003597736358643\n"
     ]
    }
   ],
   "source": [
    "import time\n",
    "tic = time.time()\n",
    "attn = torch.matmul(q,k)\n",
    "res = torch.matmul(attn,v)\n",
    "toc = time.time()\n",
    "print(res.shape)\n",
    "transformer_time = toc-tic\n",
    "print(transformer_time)"
   ]
  },
  {
   "cell_type": "code",
   "execution_count": 18,
   "metadata": {
    "colab": {
     "base_uri": "https://localhost:8080/"
    },
    "id": "cTK1mdokI_hU",
    "outputId": "d8ce1bce-9ba6-4fd1-b781-be6670bdfb49"
   },
   "outputs": [
    {
     "name": "stdout",
     "output_type": "stream",
     "text": [
      "torch.Size([32, 2048, 64])\n",
      "0.03099536895751953\n"
     ]
    }
   ],
   "source": [
    "import time\n",
    "tic = time.time()\n",
    "mat = torch.matmul(k,v)\n",
    "res = torch.matmul(q,mat)\n",
    "toc = time.time()\n",
    "print(res.shape)\n",
    "performer_time = toc-tic\n",
    "print(performer_time)"
   ]
  },
  {
   "cell_type": "code",
   "execution_count": 19,
   "metadata": {
    "colab": {
     "base_uri": "https://localhost:8080/"
    },
    "id": "Hyn2kaonJGy1",
    "outputId": "36386214-0386-49ad-9f46-4fe3e7636c53"
   },
   "outputs": [
    {
     "name": "stdout",
     "output_type": "stream",
     "text": [
      "improvement: 16.14 times faster\n"
     ]
    }
   ],
   "source": [
    "print('improvement:',str(round(transformer_time/performer_time,2)),'times faster')"
   ]
  },
  {
   "cell_type": "markdown",
   "metadata": {
    "id": "DtNgCv4jMBx7"
   },
   "source": [
    "Worst Case: Less number of time points, large number of hidden dimension"
   ]
  },
  {
   "cell_type": "code",
   "execution_count": 20,
   "metadata": {},
   "outputs": [
    {
     "name": "stdout",
     "output_type": "stream",
     "text": [
      "torch.Size([32, 64, 2048])\n"
     ]
    }
   ],
   "source": [
    "x = torch.rand(32,64,2048)\n",
    "print(x.shape)"
   ]
  },
  {
   "cell_type": "code",
   "execution_count": 21,
   "metadata": {},
   "outputs": [
    {
     "data": {
      "text/plain": [
       "torch.Size([32, 64, 2048])"
      ]
     },
     "execution_count": 21,
     "metadata": {},
     "output_type": "execute_result"
    }
   ],
   "source": [
    "q = x\n",
    "q.shape"
   ]
  },
  {
   "cell_type": "code",
   "execution_count": 22,
   "metadata": {},
   "outputs": [
    {
     "data": {
      "text/plain": [
       "torch.Size([32, 2048, 64])"
      ]
     },
     "execution_count": 22,
     "metadata": {},
     "output_type": "execute_result"
    }
   ],
   "source": [
    "k = x.permute(0,2,1)\n",
    "k.shape"
   ]
  },
  {
   "cell_type": "code",
   "execution_count": 23,
   "metadata": {},
   "outputs": [
    {
     "data": {
      "text/plain": [
       "torch.Size([32, 64, 2048])"
      ]
     },
     "execution_count": 23,
     "metadata": {},
     "output_type": "execute_result"
    }
   ],
   "source": [
    "v = x\n",
    "v.shape"
   ]
  },
  {
   "cell_type": "code",
   "execution_count": 27,
   "metadata": {},
   "outputs": [
    {
     "name": "stdout",
     "output_type": "stream",
     "text": [
      "torch.Size([32, 64, 2048])\n",
      "0.0319976806640625\n"
     ]
    }
   ],
   "source": [
    "import time\n",
    "tic = time.time()\n",
    "attn = torch.matmul(q,k)\n",
    "res = torch.matmul(attn,v)\n",
    "toc = time.time()\n",
    "print(res.shape)\n",
    "transformer_time = toc-tic\n",
    "print(transformer_time)"
   ]
  },
  {
   "cell_type": "code",
   "execution_count": 28,
   "metadata": {},
   "outputs": [
    {
     "name": "stdout",
     "output_type": "stream",
     "text": [
      "torch.Size([32, 64, 2048])\n",
      "0.5034613609313965\n"
     ]
    }
   ],
   "source": [
    "import time\n",
    "tic = time.time()\n",
    "mat = torch.matmul(k,v)\n",
    "res = torch.matmul(q,mat)\n",
    "toc = time.time()\n",
    "print(res.shape)\n",
    "performer_time = toc-tic\n",
    "print(performer_time)"
   ]
  },
  {
   "cell_type": "code",
   "execution_count": 29,
   "metadata": {},
   "outputs": [
    {
     "name": "stdout",
     "output_type": "stream",
     "text": [
      "deterioration: 15.73 times slower\n"
     ]
    }
   ],
   "source": [
    "print('deterioration:',str(round(performer_time/transformer_time,2)),'times slower')"
   ]
  },
  {
   "cell_type": "markdown",
   "metadata": {},
   "source": [
    "Balanced Case: Equal number of time points, hidden dimensions"
   ]
  },
  {
   "cell_type": "code",
   "execution_count": 36,
   "metadata": {},
   "outputs": [
    {
     "name": "stdout",
     "output_type": "stream",
     "text": [
      "torch.Size([32, 256, 256])\n"
     ]
    }
   ],
   "source": [
    "x = torch.rand(32,256,256)\n",
    "print(x.shape)"
   ]
  },
  {
   "cell_type": "code",
   "execution_count": 37,
   "metadata": {},
   "outputs": [
    {
     "data": {
      "text/plain": [
       "torch.Size([32, 256, 256])"
      ]
     },
     "execution_count": 37,
     "metadata": {},
     "output_type": "execute_result"
    }
   ],
   "source": [
    "q = x\n",
    "q.shape"
   ]
  },
  {
   "cell_type": "code",
   "execution_count": 38,
   "metadata": {},
   "outputs": [
    {
     "data": {
      "text/plain": [
       "torch.Size([32, 256, 256])"
      ]
     },
     "execution_count": 38,
     "metadata": {},
     "output_type": "execute_result"
    }
   ],
   "source": [
    "k = x.permute(0,2,1)\n",
    "k.shape"
   ]
  },
  {
   "cell_type": "code",
   "execution_count": 39,
   "metadata": {},
   "outputs": [
    {
     "data": {
      "text/plain": [
       "torch.Size([32, 256, 256])"
      ]
     },
     "execution_count": 39,
     "metadata": {},
     "output_type": "execute_result"
    }
   ],
   "source": [
    "v = x\n",
    "v.shape"
   ]
  },
  {
   "cell_type": "code",
   "execution_count": 50,
   "metadata": {},
   "outputs": [
    {
     "name": "stdout",
     "output_type": "stream",
     "text": [
      "torch.Size([32, 256, 256])\n",
      "0.030994653701782227\n"
     ]
    }
   ],
   "source": [
    "import time\n",
    "tic = time.time()\n",
    "attn = torch.matmul(q,k)\n",
    "res = torch.matmul(attn,v)\n",
    "toc = time.time()\n",
    "print(res.shape)\n",
    "transformer_time = toc-tic\n",
    "print(transformer_time)"
   ]
  },
  {
   "cell_type": "code",
   "execution_count": 51,
   "metadata": {},
   "outputs": [
    {
     "name": "stdout",
     "output_type": "stream",
     "text": [
      "torch.Size([32, 256, 256])\n",
      "0.03600144386291504\n"
     ]
    }
   ],
   "source": [
    "import time\n",
    "tic = time.time()\n",
    "mat = torch.matmul(k,v)\n",
    "res = torch.matmul(q,mat)\n",
    "toc = time.time()\n",
    "print(res.shape)\n",
    "performer_time = toc-tic\n",
    "print(performer_time)"
   ]
  }
 ],
 "metadata": {
  "colab": {
   "name": "PerformerVSTransformer.ipynb",
   "provenance": []
  },
  "kernelspec": {
   "display_name": "Python 3",
   "language": "python",
   "name": "python3"
  },
  "language_info": {
   "codemirror_mode": {
    "name": "ipython",
    "version": 3
   },
   "file_extension": ".py",
   "mimetype": "text/x-python",
   "name": "python",
   "nbconvert_exporter": "python",
   "pygments_lexer": "ipython3",
   "version": "3.7.7"
  }
 },
 "nbformat": 4,
 "nbformat_minor": 1
}
